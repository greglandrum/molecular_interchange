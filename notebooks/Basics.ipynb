{
 "cells": [
  {
   "cell_type": "code",
   "execution_count": 9,
   "metadata": {
    "collapsed": true
   },
   "outputs": [],
   "source": [
    "import json"
   ]
  },
  {
   "cell_type": "code",
   "execution_count": 15,
   "metadata": {},
   "outputs": [
    {
     "name": "stdout",
     "output_type": "stream",
     "text": [
      "{\n",
      "  \"header\":{\"version\":\"0.1\"},\n",
      "  \"atomdefaults\":{\"chiral\":false,\"implicithcount\":0,\"formalcharge\":0,\"stereo\":\"Undefined\"},\n",
      "  \"atoms\":[\n",
      "    {\"Z\":6,\"impHs\":1},\n",
      "    {\"Z\":6,\"impHs\":1},\n",
      "    {\"Z\":6,\"impHs\":1},\n",
      "    {\"Z\":6,\"impHs\":1},\n",
      "    {\"Z\":6,\"impHs\":1},\n",
      "    {\"Z\":6,\"impHs\":0},\n",
      "    {\"Z\":8,\"impHs\":1}],\n",
      "  \"atomproperties\":[\n",
      "    {\"type\":\"partialcharges\",\"method\":\"RDKit-Gasteiger\",\n",
      "      \"values\":[-0.02, -0.059, -0.062, -0.059, -0.02, 0.115, -0.508]}\n",
      "],\n",
      "  \"bonddefaults\":{\"stereo\":\"Undefined\",\"ringbond\":false,\"aromatic\":false,\"chiral\":false,\"order\":1},\n",
      "  \"bonds\":[\n",
      "    {\"atoms\":[0,1],\"order\":1},\n",
      "    {\"atoms\":[1,2],\"order\":2},\n",
      "    {\"atoms\":[2,3],\"order\":1},\n",
      "    {\"atoms\":[3,4],\"order\":2},\n",
      "    {\"atoms\":[4,5],\"order\":1},\n",
      "    {\"atoms\":[5,0],\"order\":2},\n",
      "    {\"atoms\":[5,6],\"order\":1}\n",
      "],\n",
      "  \"conformers\":[{\"dim\":2,\"coords\":[\n",
      "    [-1.2574,    1.2654],\n",
      "    [-0.3882,    1.7598],\n",
      "    [0.4746,    1.2542],\n",
      "    [0.4682,    0.2544],\n",
      "    [-0.4010,   -0.2402],\n",
      "    [-1.2638,    0.2654],\n",
      "    [-2.1330,   -0.2290]\n",
      "    ]}],\n",
      "  \"representations\":[{\n",
      "      \"toolkit\":\"RDKit\",\"toolkit_version\":\"2018.03.1.dev1\",\n",
      "      \"format_version\":1,\n",
      "      \"aromatic_atoms\":[0, 1, 2, 3, 4, 5]\n",
      "    }\n",
      "  ]\n",
      "}\n",
      "\n"
     ]
    }
   ],
   "source": [
    "b1 = open('./Examples/phenol.json').read()\n",
    "print(b1)\n",
    "obj = json.loads(b1)"
   ]
  },
  {
   "cell_type": "code",
   "execution_count": null,
   "metadata": {
    "collapsed": true
   },
   "outputs": [],
   "source": []
  },
  {
   "cell_type": "code",
   "execution_count": 16,
   "metadata": {
    "collapsed": true
   },
   "outputs": [],
   "source": [
    "from rdkit import Chem\n",
    "from rdkit.Chem import AllChem\n",
    "from rdkit.Chem.Draw import IPythonConsole"
   ]
  },
  {
   "cell_type": "code",
   "execution_count": 52,
   "metadata": {},
   "outputs": [
    {
     "data": {
      "text/plain": [
       "rdkit.Chem.rdchem.ChiralType.CHI_UNSPECIFIED"
      ]
     },
     "execution_count": 52,
     "metadata": {},
     "output_type": "execute_result"
    }
   ],
   "source": [
    "m = Chem.MolFromSmiles('c1ccccc1O')\n",
    "AllChem.ComputeGasteigerCharges(m)\n",
    "[float('%.3f'%float(x.GetProp(\"_GasteigerCharge\"))) for x in m.GetAtoms()]\n",
    "m.GetBondWithIdx(0).GetBondType()\n",
    "a = m.GetAtomWithIdx(0)\n",
    "a.GetChiralTag()"
   ]
  },
  {
   "cell_type": "code",
   "execution_count": 55,
   "metadata": {},
   "outputs": [
    {
     "name": "stdout",
     "output_type": "stream",
     "text": [
      "{\n",
      "      \"header\":{\"version\":\"0.1\", \"name\":\"example molecule\"},\n",
      "      \"atomdefaults\":{\"chiral\":false,\"impHs\":0,\"chg\":0,\"stereo\":\"UNSPECIFIED\",\"nrad\":0},\n",
      "      \"bonddefaults\":{\"stereo\":\"UNDEF\",\"ringbond\":false,\"aromatic\":false,\"chi\":false,\"order\":1},\n",
      "    \n",
      "\"atoms\":[\n",
      "{\"Z\": 6, \"impHs\": 1},\n",
      "{\"Z\": 6, \"impHs\": 1},\n",
      "{\"Z\": 6, \"impHs\": 1},\n",
      "{\"Z\": 6, \"impHs\": 1},\n",
      "{\"Z\": 6, \"impHs\": 1},\n",
      "{\"Z\": 6},\n",
      "{\"Z\": 8},\n",
      "{\"Z\": 6, \"impHs\": 1},\n",
      "{\"Z\": 6, \"impHs\": 1},\n",
      "{\"Z\": 6, \"impHs\": 1, \"stereo\": \"CCW\"},\n",
      "{\"Z\": 7, \"impHs\": 3, \"chg\": 1},\n",
      "{\"Z\": 17}\n",
      "],\n",
      "\"atomproperties\":[\n",
      "{\"type\":\"partialcharges\",\"method\":\"rdkit-gasteiger\",\n",
      "\"values\": [-0.019, -0.059, -0.062, -0.059, -0.019, 0.126, -0.465, 0.094, 0.024, 0.182, -0.339, -0.054]\n",
      "}\n",
      "],\n",
      "\"bonds\":[\n",
      "{\"atoms\": [0, 1], \"bo\": 2},\n",
      "{\"atoms\": [1, 2], \"bo\": 1},\n",
      "{\"atoms\": [2, 3], \"bo\": 2},\n",
      "{\"atoms\": [3, 4], \"bo\": 1},\n",
      "{\"atoms\": [4, 5], \"bo\": 2},\n",
      "{\"atoms\": [5, 6], \"bo\": 1},\n",
      "{\"atoms\": [6, 7], \"bo\": 1},\n",
      "{\"atoms\": [7, 8], \"bo\": 2},\n",
      "{\"atoms\": [8, 9], \"bo\": 1},\n",
      "{\"atoms\": [9, 10], \"bo\": 1},\n",
      "{\"atoms\": [9, 11], \"bo\": 1},\n",
      "{\"atoms\": [5, 0], \"bo\": 1}\n",
      "],\n",
      "\"conformers\":[{\"dim\":2,\"coords\":[\n",
      "[1.0266, 0.4928],\n",
      "[1.8930, 0.9922],\n",
      "[1.8938, 1.9922],\n",
      "[1.0282, 2.4928],\n",
      "[0.1618, 1.9936],\n",
      "[0.1610, 0.9936],\n",
      "[-0.7054, 0.4942],\n",
      "[-0.7062, -0.5058],\n",
      "[-1.5726, -1.0050],\n",
      "[-2.4382, -0.5044],\n",
      "[-2.4374, 0.4956],\n",
      "[-3.3046, -1.0038]\n",
      "]}],\n",
      "\n",
      "      \"representations\":[{\n",
      "          \"toolkit\":\"RDKit\",\"toolkit_version\":\"2018.03.1.dev1\",\n",
      "          \"format_version\":1,\n",
      "\"aromatic_atoms\": [0, 1, 2, 3, 4, 5],\n",
      "\"aromatic_bonds\": [0, 1, 2, 3, 4, 11],\n",
      "\"rings\":[[0, 1, 2, 3, 4, 5]]\n",
      "        }\n",
      "      ]\n",
      "    }\n",
      "\n"
     ]
    },
    {
     "data": {
      "image/png": "[encoded data removed]",
      "text/plain": [
       "<rdkit.Chem.rdchem.Mol at 0x22ab13bfa30>"
      ]
     },
     "execution_count": 55,
     "metadata": {},
     "output_type": "execute_result"
    }
   ],
   "source": [
    "m = Chem.MolFromSmiles('c1ccccc1O/C=C\\\\[C@H]([NH3+])Cl')\n",
    "\n",
    "def moltojson(m):\n",
    "    AllChem.Compute2DCoords(m)\n",
    "    AllChem.ComputeGasteigerCharges(m)\n",
    "    Chem.Kekulize(m)\n",
    "    from io import StringIO\n",
    "    sio = StringIO()\n",
    "    print(\"\"\"{\n",
    "      \"header\":{\"version\":\"0.1\", \"name\":\"example molecule\"},\n",
    "      \"atomdefaults\":{\"chiral\":false,\"impHs\":0,\"chg\":0,\"stereo\":\"UNSPECIFIED\",\"nrad\":0},\n",
    "      \"bonddefaults\":{\"stereo\":\"UNDEF\",\"ringbond\":false,\"aromatic\":false,\"chi\":false,\"order\":1},\n",
    "    \"\"\",file=sio)\n",
    "    print('\"atoms\":[',file=sio)\n",
    "    for i,at in enumerate(m.GetAtoms()):\n",
    "        obj = {\"Z\":at.GetAtomicNum()}\n",
    "        if at.GetTotalNumHs():\n",
    "            obj[\"impHs\"]=at.GetTotalNumHs()\n",
    "        if at.GetChiralTag() != Chem.ChiralType.CHI_UNSPECIFIED:\n",
    "            chi = {Chem.ChiralType.CHI_TETRAHEDRAL_CW:\"CW\",Chem.ChiralType.CHI_TETRAHEDRAL_CCW:\"CCW\",Chem.ChiralType.CHI_OTHER:\"Other\"}[at.GetChiralTag()]\n",
    "            obj['stereo']=chi\n",
    "        if at.GetFormalCharge():\n",
    "            obj['chg'] = at.GetFormalCharge()\n",
    "        if at.GetNumRadicalElectrons():\n",
    "            obj['nrad'] = at.GetNumRadicalElectrons()\n",
    "        txt = json.dumps(obj)\n",
    "        if i!=m.GetNumAtoms()-1:\n",
    "            txt += ','\n",
    "        print(txt,file=sio)\n",
    "    print('],',file=sio)\n",
    "\n",
    "    print('\"atomproperties\":[',file=sio)\n",
    "    print('{\"type\":\"partialcharges\",\"method\":\"rdkit-gasteiger\",',file=sio)\n",
    "    print('\"values\":',[float('%.3f'%float(x.GetProp(\"_GasteigerCharge\"))) for x in m.GetAtoms()],file=sio)\n",
    "    print('}',file=sio)\n",
    "    print('],',file=sio)\n",
    "\n",
    "    print('\"bonds\":[',file=sio)\n",
    "    for i,bnd in enumerate(m.GetBonds()):\n",
    "        bo = {Chem.BondType.SINGLE:1,Chem.BondType.DOUBLE:2,Chem.BondType.TRIPLE:3}[bnd.GetBondType()]\n",
    "        obj = {\"atoms\":[bnd.GetBeginAtomIdx(),bnd.GetEndAtomIdx()],\"bo\":bo}\n",
    "        txt = json.dumps(obj)\n",
    "        if(i != m.GetNumBonds()-1):\n",
    "            txt += ','\n",
    "        print(txt,file=sio)\n",
    "    print('],',file=sio)\n",
    "\n",
    "    print('\"conformers\":[{\"dim\":2,\"coords\":[',file=sio)\n",
    "    for i in range(m.GetNumAtoms()):\n",
    "        pos = m.GetConformer().GetAtomPosition(i)\n",
    "        txt = '[%.4f, %.4f]'%(pos.x,pos.y)\n",
    "        if(i!=m.GetNumAtoms()-1):\n",
    "            txt += ','\n",
    "        print(txt,file=sio)\n",
    "    print(\"]}],\",file=sio)\n",
    "\n",
    "\n",
    "    print(\"\"\"\n",
    "      \"representations\":[{\n",
    "          \"toolkit\":\"RDKit\",\"toolkit_version\":\"2018.03.1.dev1\",\n",
    "          \"format_version\":1,\"\"\",file=sio)\n",
    "    print('\"aromatic_atoms\": %s,'%str([x.GetIdx() for x in m.GetAtoms() if x.GetIsAromatic()]),file=sio)\n",
    "    print('\"aromatic_bonds\": %s,'%str([x.GetIdx() for x in m.GetBonds() if x.GetIsAromatic()]),file=sio)\n",
    "    print(\"\"\"\"rings\":[[0, 1, 2, 3, 4, 5]]\n",
    "        }\n",
    "      ]\n",
    "    }\"\"\",file=sio)\n",
    "\n",
    "\n",
    "\n",
    "    print(sio.getvalue())\n",
    "    json.loads(sio.getvalue())\n",
    "moltojson(m)\n",
    "m"
   ]
  },
  {
   "cell_type": "code",
   "execution_count": null,
   "metadata": {
    "collapsed": true
   },
   "outputs": [],
   "source": []
  }
 ],
 "metadata": {
  "hide_input": false,
  "kernelspec": {
   "display_name": "Python 3",
   "language": "python",
   "name": "python3"
  },
  "language_info": {
   "codemirror_mode": {
    "name": "ipython",
    "version": 3
   },
   "file_extension": ".py",
   "mimetype": "text/x-python",
   "name": "python",
   "nbconvert_exporter": "python",
   "pygments_lexer": "ipython3",
   "version": "3.6.3"
  }
 },
 "nbformat": 4,
 "nbformat_minor": 2
}
